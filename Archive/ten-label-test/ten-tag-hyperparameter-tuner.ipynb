{
 "cells": [
  {
   "cell_type": "code",
   "execution_count": 1,
   "id": "starting-canyon",
   "metadata": {},
   "outputs": [],
   "source": [
    "import sagemaker\n",
    "from sagemaker import get_execution_role\n",
    "from sagemaker.amazon.amazon_estimator import image_uris\n",
    "\n",
    "role = get_execution_role()\n",
    "sess = sagemaker.Session()"
   ]
  },
  {
   "cell_type": "code",
   "execution_count": 2,
   "id": "plain-scholar",
   "metadata": {},
   "outputs": [],
   "source": [
    "bucket = 'sagemaker-multi-label-test'\n",
    "prefix = 'ic-multilabel'\n",
    "\n",
    "s3train = 's3://{}/{}/train/'.format(bucket, prefix)\n",
    "s3validation = 's3://{}/{}/validation/'.format(bucket, prefix)"
   ]
  },
  {
   "cell_type": "code",
   "execution_count": 4,
   "id": "spread-convertible",
   "metadata": {},
   "outputs": [],
   "source": [
    "train_data = sagemaker.inputs.TrainingInput(\n",
    "    s3train, \n",
    "    distribution='FullyReplicated', \n",
    "    content_type='application/x-recordio', \n",
    "    s3_data_type='S3Prefix'\n",
    ")\n",
    "\n",
    "validation_data = sagemaker.inputs.TrainingInput(\n",
    "    s3validation, \n",
    "    distribution='FullyReplicated', \n",
    "    content_type='application/x-recordio', \n",
    "    s3_data_type='S3Prefix'\n",
    ")\n",
    "\n",
    "data_channels = {'train': train_data, 'validation': validation_data}\n",
    "\n",
    "s3_output_location = 's3://{}/{}/output'.format(bucket, prefix)"
   ]
  },
  {
   "cell_type": "code",
   "execution_count": 14,
   "id": "pretty-neutral",
   "metadata": {},
   "outputs": [
    {
     "name": "stdout",
     "output_type": "stream",
     "text": [
      "685385470294.dkr.ecr.eu-west-1.amazonaws.com/image-classification:1\n"
     ]
    }
   ],
   "source": [
    "from sagemaker.image_uris import retrieve, config_for_framework\n",
    "training_image = retrieve('image-classification', sess.boto_region_name, )\n",
    "print (training_image)\n"
   ]
  },
  {
   "cell_type": "code",
   "execution_count": 22,
   "id": "affecting-society",
   "metadata": {},
   "outputs": [],
   "source": [
    "multilabel_ic = sagemaker.estimator.Estimator(training_image,\n",
    "                                             role, \n",
    "                                             instance_count=1, \n",
    "                                             instance_type='ml.p3.2xlarge',\n",
    "                                             output_path=s3_output_location,\n",
    "                                             sagemaker_session=sess)"
   ]
  },
  {
   "cell_type": "code",
   "execution_count": 23,
   "id": "pacific-phone",
   "metadata": {},
   "outputs": [],
   "source": [
    "multilabel_ic.set_hyperparameters(num_layers=18,\n",
    "                                image_shape = '3,224,224',\n",
    "                                num_classes=10,\n",
    "                                epochs=30,\n",
    "                                num_training_samples=3457,\n",
    "                                use_weighted_loss=1,\n",
    "                                precision_dtype='float32',\n",
    "                                augmentation_type = 'crop',\n",
    "                                multi_label=1,\n",
    "                                top_k=2)"
   ]
  },
  {
   "cell_type": "code",
   "execution_count": 24,
   "id": "tired-galaxy",
   "metadata": {},
   "outputs": [],
   "source": [
    "from sagemaker.tuner import IntegerParameter, CategoricalParameter, ContinuousParameter, HyperparameterTuner\n",
    "from time import gmtime, strftime\n",
    "\n",
    "tuning_job_name = \"imageclassif-job-{}\".format(strftime(\"%d-%H-%M-%S\", gmtime()))\n",
    "\n",
    "hyperparameter_ranges = {'learning_rate': ContinuousParameter(0.0001, 0.05),\n",
    "                         'mini_batch_size': IntegerParameter(50, 512),\n",
    "                         'optimizer': CategoricalParameter(['sgd', 'adam', 'rmsprop', 'nag'])}\n",
    "\n",
    "objective_metric_name = 'validation:accuracy'\n",
    "\n",
    "tuner = HyperparameterTuner(multilabel_ic,\n",
    "                            objective_metric_name,\n",
    "                            hyperparameter_ranges,\n",
    "                            objective_type='Maximize',\n",
    "                            max_jobs=5,\n",
    "                            max_parallel_jobs=1) "
   ]
  },
  {
   "cell_type": "code",
   "execution_count": 25,
   "id": "south-teens",
   "metadata": {},
   "outputs": [
    {
     "name": "stdout",
     "output_type": "stream",
     "text": [
      "........................................................................................................................................................................................................................................................................................................................................................................................................................................!\n",
      "!\n"
     ]
    }
   ],
   "source": [
    "tuner.fit(data_channels, job_name=tuning_job_name, include_cls_metadata=False)\n",
    "tuner.wait()"
   ]
  },
  {
   "cell_type": "code",
   "execution_count": null,
   "id": "threatened-protection",
   "metadata": {},
   "outputs": [],
   "source": []
  }
 ],
 "metadata": {
  "kernelspec": {
   "display_name": "conda_mxnet_latest_p37",
   "language": "python",
   "name": "conda_mxnet_latest_p37"
  },
  "language_info": {
   "codemirror_mode": {
    "name": "ipython",
    "version": 3
   },
   "file_extension": ".py",
   "mimetype": "text/x-python",
   "name": "python",
   "nbconvert_exporter": "python",
   "pygments_lexer": "ipython3",
   "version": "3.7.6"
  }
 },
 "nbformat": 4,
 "nbformat_minor": 5
}
