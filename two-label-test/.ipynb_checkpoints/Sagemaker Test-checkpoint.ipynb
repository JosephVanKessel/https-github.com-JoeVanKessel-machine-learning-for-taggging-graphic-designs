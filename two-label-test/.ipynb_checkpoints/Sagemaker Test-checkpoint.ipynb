{
 "cells": [
  {
   "cell_type": "markdown",
   "metadata": {},
   "source": [
    "# Training and Deploying a Custom Image Classifier with Amazon SageMaker\n",
    "### This script was provided by [gabehollombe-aws](https://github.com/gabehollombe-aws/jupyter-notebooks/blob/master/DL%20Intro%20Demo%20-%20Sagemaker%20Image%20Classifer%20via%20Transfer%20Learning.ipynb)"
   ]
  },
  {
   "cell_type": "markdown",
   "metadata": {},
   "source": [
    "## Configure where to fetch our training data\n",
    "\n",
    "All of our images live inside an S3 bucket, organized into folders in a structure similar to this:\n",
    "\n",
    "```\n",
    "my_training_classes\n",
    "├── person\n",
    "│   ├── han.jpg\n",
    "│   ├── leia.jpg\n",
    "|   ├── luke.jpg\n",
    "│   └── . . .\n",
    "└── ship\n",
    "│   ├── millenium_falcon.jpg\n",
    "│   ├── tie-fighter.jpg    \n",
    "│   ├── x-wing.jpg\n",
    "│   ├── . . .\n",
    "└── . . .\n",
    "```"
   ]
  },
  {
   "cell_type": "code",
   "execution_count": 10,
   "metadata": {},
   "outputs": [],
   "source": [
    "# An S3 Bucket Name\n",
    "data_bucket_name='pixelscrapper-sagemaker'\n",
    "\n",
    "# A prefix name inside the S3 bucket containing sub-folders of images (one per label class)\n",
    "dataset_name = 'testing' "
   ]
  },
  {
   "cell_type": "markdown",
   "metadata": {},
   "source": [
    "## Setting up the environment\n",
    "Here we set up the linkage and authentication to AWS services\n",
    "\n",
    "- The role used to give learning and hosting access to your data. This will automatically be obtained from the role used to start the notebook\n",
    "- A `session` variable that holds some configuration state for interacting with SageMaker from Python and contains some methods for preparing input data\n",
    "- A reference to the Amazon sagemaker image classification docker image \n",
    "\n",
    "More info about the SageMaker built-in Image Classification algorithm here: https://docs.aws.amazon.com/sagemaker/latest/dg/image-classification.html"
   ]
  },
  {
   "cell_type": "code",
   "execution_count": 11,
   "metadata": {
    "scrolled": true
   },
   "outputs": [
    {
     "name": "stderr",
     "output_type": "stream",
     "text": [
      "Defaulting to the only supported framework/algorithm version: 1. Ignoring framework/algorithm version: latest.\n"
     ]
    },
    {
     "name": "stdout",
     "output_type": "stream",
     "text": [
      "arn:aws:sts::466363126778:assumed-role/AWSGlueServiceSageMakerNotebookRole/SageMaker\n",
      "arn:aws:iam::466363126778:role/AWSGlueServiceSageMakerNotebookRole\n"
     ]
    }
   ],
   "source": [
    "import sagemaker\n",
    "from sagemaker import get_execution_role\n",
    "from sagemaker.amazon.amazon_estimator import image_uris\n",
    "\n",
    "role = get_execution_role()\n",
    "sess = sagemaker.Session()\n",
    "\n",
    "print(sess.boto_session.client('sts').get_caller_identity()['Arn'])\n",
    "print(role)\n",
    "\n",
    "training_image = image_uris.retrieve(region=sess.boto_region_name, framework='image-classification', version=\"latest\")"
   ]
  },
  {
   "cell_type": "markdown",
   "metadata": {},
   "source": [
    "## Preparing data for our model\n",
    "Before we can train our model, we need to:\n",
    "\n",
    "- Create some files that will teach SageMaker about the images in each of our classes\n",
    "- Upload these additional files to S3\n",
    "- Configure our model to use these files for training and validating"
   ]
  },
  {
   "cell_type": "markdown",
   "metadata": {},
   "source": [
    "### Find the im2rec.py script on this system\n",
    "The SageMaker image classifier algorithm needs to know about which images belong to which classes. We provide this data using either LST or RecordIO files. We'll use a python script called `im2rec.py` to create these files.\n",
    "\n",
    "More info here: https://docs.aws.amazon.com/sagemaker/latest/dg/image-classification.html#IC-inputoutput"
   ]
  },
  {
   "cell_type": "code",
   "execution_count": 12,
   "metadata": {},
   "outputs": [
    {
     "name": "stdout",
     "output_type": "stream",
     "text": [
      "env: BASE_DIR=/tmp\n",
      "env: S3_DATA_BUCKET_NAME=pixelscrapper-sagemaker\n",
      "env: DATASET_NAME=testing\n",
      "env: IM2REC=/home/ec2-user/anaconda3/envs/mxnet_p36/lib/python3.6/site-packages/mxnet/tools/im2rec.py\n"
     ]
    }
   ],
   "source": [
    "# Find im2rec in our environment and set up some other vars in our environemnt\n",
    "\n",
    "base_dir='/tmp'\n",
    "\n",
    "%env BASE_DIR=$base_dir\n",
    "%env S3_DATA_BUCKET_NAME = $data_bucket_name\n",
    "%env DATASET_NAME = $dataset_name\n",
    "\n",
    "import sys,os\n",
    "\n",
    "suffix='/mxnet/tools/im2rec.py'\n",
    "im2rec = list(filter( (lambda x: os.path.isfile(x + suffix )), sys.path))[0] + suffix\n",
    "%env IM2REC=$im2rec"
   ]
  },
  {
   "cell_type": "markdown",
   "metadata": {},
   "source": [
    "### Get our training images from S3\n",
    "In order to create training and validation RecordIO files, we need to download our images to our local filesystem."
   ]
  },
  {
   "cell_type": "code",
   "execution_count": 13,
   "metadata": {},
   "outputs": [
    {
     "name": "stdout",
     "output_type": "stream",
     "text": [
      "download: s3://pixelscrapper-sagemaker/testing/mugs/IMG_5560.JPG to ../../../tmp/testing/mugs/IMG_5560.JPG\n",
      "download: s3://pixelscrapper-sagemaker/testing/mugs/IMG_5559.JPG to ../../../tmp/testing/mugs/IMG_5559.JPG\n",
      "download: s3://pixelscrapper-sagemaker/testing/mugs/IMG_5557.JPG to ../../../tmp/testing/mugs/IMG_5557.JPG\n",
      "download: s3://pixelscrapper-sagemaker/testing/mugs/IMG_5558.JPG to ../../../tmp/testing/mugs/IMG_5558.JPG\n",
      "download: s3://pixelscrapper-sagemaker/testing/mugs/IMG_5758.JPG to ../../../tmp/testing/mugs/IMG_5758.JPG\n",
      "download: s3://pixelscrapper-sagemaker/testing/mugs/IMG_5756.JPG to ../../../tmp/testing/mugs/IMG_5756.JPG\n",
      "download: s3://pixelscrapper-sagemaker/testing/mugs/IMG_5716.JPG to ../../../tmp/testing/mugs/IMG_5716.JPG\n",
      "download: s3://pixelscrapper-sagemaker/testing/mugs/IMG_5565.JPG to ../../../tmp/testing/mugs/IMG_5565.JPG\n",
      "download: s3://pixelscrapper-sagemaker/testing/mugs/IMG_5759.JPG to ../../../tmp/testing/mugs/IMG_5759.JPG\n",
      "download: s3://pixelscrapper-sagemaker/testing/mugs/IMG_5712.JPG to ../../../tmp/testing/mugs/IMG_5712.JPG\n",
      "download: s3://pixelscrapper-sagemaker/testing/mugs/IMG_5567.JPG to ../../../tmp/testing/mugs/IMG_5567.JPG\n",
      "download: s3://pixelscrapper-sagemaker/testing/mugs/IMG_5760.JPG to ../../../tmp/testing/mugs/IMG_5760.JPG\n",
      "download: s3://pixelscrapper-sagemaker/testing/mugs/IMG_5713.JPG to ../../../tmp/testing/mugs/IMG_5713.JPG\n",
      "download: s3://pixelscrapper-sagemaker/testing/mugs/IMG_5718.JPG to ../../../tmp/testing/mugs/IMG_5718.JPG\n",
      "download: s3://pixelscrapper-sagemaker/testing/notebooks/IMG_5723.JPG to ../../../tmp/testing/notebooks/IMG_5723.JPG\n",
      "download: s3://pixelscrapper-sagemaker/testing/mugs/IMG_5715.JPG to ../../../tmp/testing/mugs/IMG_5715.JPG\n",
      "download: s3://pixelscrapper-sagemaker/testing/notebooks/IMG_5724.JPG to ../../../tmp/testing/notebooks/IMG_5724.JPG\n",
      "download: s3://pixelscrapper-sagemaker/testing/notebooks/IMG_5720.JPG to ../../../tmp/testing/notebooks/IMG_5720.JPG\n",
      "download: s3://pixelscrapper-sagemaker/testing/notebooks/IMG_5721.JPG to ../../../tmp/testing/notebooks/IMG_5721.JPG\n",
      "download: s3://pixelscrapper-sagemaker/testing/notebooks/IMG_5722.JPG to ../../../tmp/testing/notebooks/IMG_5722.JPG\n",
      "download: s3://pixelscrapper-sagemaker/testing/notebooks/IMG_5753.JPG to ../../../tmp/testing/notebooks/IMG_5753.JPG\n",
      "download: s3://pixelscrapper-sagemaker/testing/notebooks/IMG_5727.JPG to ../../../tmp/testing/notebooks/IMG_5727.JPG\n",
      "download: s3://pixelscrapper-sagemaker/testing/notebooks/IMG_5750.JPG to ../../../tmp/testing/notebooks/IMG_5750.JPG\n",
      "download: s3://pixelscrapper-sagemaker/testing/notebooks/IMG_5752.JPG to ../../../tmp/testing/notebooks/IMG_5752.JPG\n",
      "download: s3://pixelscrapper-sagemaker/testing/notebooks/IMG_5728.JPG to ../../../tmp/testing/notebooks/IMG_5728.JPG\n",
      "download: s3://pixelscrapper-sagemaker/testing/notebooks/IMG_5751.JPG to ../../../tmp/testing/notebooks/IMG_5751.JPG\n",
      "download: s3://pixelscrapper-sagemaker/testing/notebooks/IMG_5730.JPG to ../../../tmp/testing/notebooks/IMG_5730.JPG\n",
      "download: s3://pixelscrapper-sagemaker/testing/shoes/IMG_5566.JPG to ../../../tmp/testing/shoes/IMG_5566.JPG\n",
      "download: s3://pixelscrapper-sagemaker/testing/notebooks/IMG_5755.JPG to ../../../tmp/testing/notebooks/IMG_5755.JPG\n",
      "download: s3://pixelscrapper-sagemaker/testing/notebooks/IMG_5754.JPG to ../../../tmp/testing/notebooks/IMG_5754.JPG\n",
      "download: s3://pixelscrapper-sagemaker/testing/shoes/IMG_5564.JPG to ../../../tmp/testing/shoes/IMG_5564.JPG\n",
      "download: s3://pixelscrapper-sagemaker/testing/shoes/IMG_5731.JPG to ../../../tmp/testing/shoes/IMG_5731.JPG\n",
      "download: s3://pixelscrapper-sagemaker/testing/shoes/IMG_5563.JPG to ../../../tmp/testing/shoes/IMG_5563.JPG\n",
      "download: s3://pixelscrapper-sagemaker/testing/shoes/IMG_5568.JPG to ../../../tmp/testing/shoes/IMG_5568.JPG\n",
      "download: s3://pixelscrapper-sagemaker/testing/shoes/IMG_5562.JPG to ../../../tmp/testing/shoes/IMG_5562.JPG\n",
      "download: s3://pixelscrapper-sagemaker/testing/shoes/IMG_5733.JPG to ../../../tmp/testing/shoes/IMG_5733.JPG\n",
      "download: s3://pixelscrapper-sagemaker/testing/shoes/IMG_5746.JPG to ../../../tmp/testing/shoes/IMG_5746.JPG\n",
      "download: s3://pixelscrapper-sagemaker/testing/shoes/IMG_5734.JPG to ../../../tmp/testing/shoes/IMG_5734.JPG\n",
      "download: s3://pixelscrapper-sagemaker/testing/shoes/IMG_5732.JPG to ../../../tmp/testing/shoes/IMG_5732.JPG\n",
      "download: s3://pixelscrapper-sagemaker/testing/shoes/IMG_5747.JPG to ../../../tmp/testing/shoes/IMG_5747.JPG\n",
      "download: s3://pixelscrapper-sagemaker/testing/tennis balls/IMG_5735.JPG to ../../../tmp/testing/tennis balls/IMG_5735.JPG\n",
      "download: s3://pixelscrapper-sagemaker/testing/mugs/IMG_5719.JPG to ../../../tmp/testing/mugs/IMG_5719.JPG\n",
      "download: s3://pixelscrapper-sagemaker/testing/shoes/IMG_5748.JPG to ../../../tmp/testing/shoes/IMG_5748.JPG\n",
      "download: s3://pixelscrapper-sagemaker/testing/mugs/IMG_5714.JPG to ../../../tmp/testing/mugs/IMG_5714.JPG\n",
      "download: s3://pixelscrapper-sagemaker/testing/mugs/IMG_5757.JPG to ../../../tmp/testing/mugs/IMG_5757.JPG\n",
      "download: s3://pixelscrapper-sagemaker/testing/shoes/IMG_5763.JPG to ../../../tmp/testing/shoes/IMG_5763.JPG\n",
      "download: s3://pixelscrapper-sagemaker/testing/mugs/IMG_5717.JPG to ../../../tmp/testing/mugs/IMG_5717.JPG\n",
      "download: s3://pixelscrapper-sagemaker/testing/shoes/IMG_5762.JPG to ../../../tmp/testing/shoes/IMG_5762.JPG\n",
      "download: s3://pixelscrapper-sagemaker/testing/tennis balls/IMG_5740.JPG to ../../../tmp/testing/tennis balls/IMG_5740.JPG\n",
      "download: s3://pixelscrapper-sagemaker/testing/tennis balls/IMG_5739.JPG to ../../../tmp/testing/tennis balls/IMG_5739.JPG\n",
      "download: s3://pixelscrapper-sagemaker/testing/tennis balls/IMG_5743.JPG to ../../../tmp/testing/tennis balls/IMG_5743.JPG\n",
      "download: s3://pixelscrapper-sagemaker/testing/tennis balls/IMG_5736.JPG to ../../../tmp/testing/tennis balls/IMG_5736.JPG\n",
      "download: s3://pixelscrapper-sagemaker/testing/tennis balls/IMG_5737.JPG to ../../../tmp/testing/tennis balls/IMG_5737.JPG\n",
      "download: s3://pixelscrapper-sagemaker/testing/tennis balls/IMG_5742.JPG to ../../../tmp/testing/tennis balls/IMG_5742.JPG\n",
      "download: s3://pixelscrapper-sagemaker/testing/tennis balls/IMG_5744.JPG to ../../../tmp/testing/tennis balls/IMG_5744.JPG\n",
      "download: s3://pixelscrapper-sagemaker/testing/tennis balls/IMG_5738.JPG to ../../../tmp/testing/tennis balls/IMG_5738.JPG\n",
      "download: s3://pixelscrapper-sagemaker/testing/tennis balls/IMG_5745.JPG to ../../../tmp/testing/tennis balls/IMG_5745.JPG\n",
      "download: s3://pixelscrapper-sagemaker/testing/shoes/IMG_5561.JPG to ../../../tmp/testing/shoes/IMG_5561.JPG\n",
      "download: s3://pixelscrapper-sagemaker/testing/tennis balls/IMG_5741.JPG to ../../../tmp/testing/tennis balls/IMG_5741.JPG\n"
     ]
    }
   ],
   "source": [
    "# Pull our images from S3\n",
    "!aws s3 sync s3://pixelscrapper-sagemaker/testing /tmp/testing"
   ]
  },
  {
   "cell_type": "markdown",
   "metadata": {},
   "source": [
    "### Create RecordIO files from our training images\n",
    "The `im2rec.py` script can create LST files and/or RecordIO files from our training data. \n",
    "\n",
    "More info here: https://mxnet.incubator.apache.org/versions/master/faq/recordio.html"
   ]
  },
  {
   "cell_type": "code",
   "execution_count": 14,
   "metadata": {},
   "outputs": [
    {
     "name": "stdout",
     "output_type": "stream",
     "text": [
      "Creating LST files\n",
      "Label classes:\n",
      "mugs 0\n",
      "notebooks 1\n",
      "shoes 2\n",
      "tennis balls 3\n",
      "Creating RecordIO files\n",
      "Creating .rec file from /tmp/testing_train.lst in /tmp\n",
      "time: 0.06730914115905762  count: 0\n",
      "Creating .rec file from /tmp/testing_test.lst in /tmp\n",
      "time: 0.013591766357421875  count: 0\n",
      "-rw-rw-r-- 1 ec2-user ec2-user 1.3M Feb 15 22:18 testing_test.rec\n",
      "-rw-rw-r-- 1 ec2-user ec2-user 3.5M Feb 15 22:18 testing_train.rec\n"
     ]
    },
    {
     "name": "stderr",
     "output_type": "stream",
     "text": [
      "rm: cannot remove ‘*.rec’: No such file or directory\n",
      "rm: cannot remove ‘*.lst’: No such file or directory\n"
     ]
    }
   ],
   "source": [
    "%%bash\n",
    "# Use the IM2REC script to convert our images into RecordIO files\n",
    "\n",
    "# Clean up our working dir of existing LST and REC files\n",
    "cd $BASE_DIR\n",
    "rm *.rec\n",
    "rm *.lst\n",
    "\n",
    "# First we need to create two LST files (training and test lists), noting the correct label class for each image\n",
    "# We'll also save the output of the LST files command, since it includes a list of all of our label classes\n",
    "echo \"Creating LST files\"\n",
    "python $IM2REC --list --recursive --pass-through --test-ratio=0.3 --train-ratio=0.7 $DATASET_NAME $DATASET_NAME > ${DATASET_NAME}_classes\n",
    "\n",
    "echo \"Label classes:\"\n",
    "cat ${DATASET_NAME}_classes\n",
    "\n",
    "# Then we create RecordIO files from the LST files\n",
    "echo \"Creating RecordIO files\"\n",
    "python $IM2REC --num-thread=4 ${DATASET_NAME}_train.lst $DATASET_NAME\n",
    "python $IM2REC --num-thread=4 ${DATASET_NAME}_test.lst $DATASET_NAME\n",
    "ls -lh *.rec"
   ]
  },
  {
   "cell_type": "markdown",
   "metadata": {},
   "source": [
    "### Upload our training and test data RecordIO files so we can train with them\n",
    "Now that we have our training and test .rec files, we upload them to S3 so SageMaker can use them for training"
   ]
  },
  {
   "cell_type": "code",
   "execution_count": 17,
   "metadata": {},
   "outputs": [
    {
     "name": "stdout",
     "output_type": "stream",
     "text": [
      "delete: s3://sagemaker-eu-west-1-466363126778/testing/train/testing_train.rec\n",
      "delete: s3://sagemaker-eu-west-1-466363126778/testing/validation/testing_test.rec\n",
      "upload: ../../../tmp/testing_train.rec to s3://sagemaker-eu-west-1-466363126778/testing/train/testing_train.rec\n",
      "upload: ../../../tmp/testing_test.rec to s3://sagemaker-eu-west-1-466363126778/testing/validation/testing_test.rec\n"
     ]
    }
   ],
   "source": [
    "# Upload our train and test RecordIO files to S3 in the bucket that our sagemaker session is using\n",
    "bucket = sess.default_bucket()\n",
    "\n",
    "s3train_path = 's3://{}/{}/train/'.format(bucket, dataset_name)\n",
    "s3validation_path = 's3://{}/{}/validation/'.format(bucket, dataset_name)\n",
    "\n",
    "# Clean up any existing data\n",
    "!aws s3 rm s3://{bucket}/{dataset_name}/train --recursive\n",
    "!aws s3 rm s3://{bucket}/{dataset_name}/validation --recursive\n",
    "\n",
    "# Upload the rec files to the train and validation channels\n",
    "!aws s3 cp /tmp/{dataset_name}_train.rec $s3train_path\n",
    "!aws s3 cp /tmp/{dataset_name}_test.rec $s3validation_path"
   ]
  },
  {
   "cell_type": "markdown",
   "metadata": {},
   "source": [
    "### Configure the data for our model training to use\n",
    "Finally, we tell SageMaker where to find these RecordIO files to use for training"
   ]
  },
  {
   "cell_type": "code",
   "execution_count": 18,
   "metadata": {},
   "outputs": [],
   "source": [
    "train_data = sagemaker.inputs.TrainingInput(\n",
    "    s3train_path, \n",
    "    distribution='FullyReplicated', \n",
    "    content_type='application/x-recordio', \n",
    "    s3_data_type='S3Prefix'\n",
    ")\n",
    "\n",
    "validation_data = sagemaker.inputs.TrainingInput(\n",
    "    s3validation_path, \n",
    "    distribution='FullyReplicated', \n",
    "    content_type='application/x-recordio', \n",
    "    s3_data_type='S3Prefix'\n",
    ")\n",
    "\n",
    "data_channels = {'train': train_data, 'validation': validation_data}"
   ]
  },
  {
   "cell_type": "markdown",
   "metadata": {},
   "source": [
    "## Training\n",
    "Now it's time to train our model!"
   ]
  },
  {
   "cell_type": "markdown",
   "metadata": {},
   "source": [
    "### Create an image classifier object with some base configuration\n",
    "More info here: https://sagemaker.readthedocs.io/en/stable/estimators.html#sagemaker.estimator.Estimator"
   ]
  },
  {
   "cell_type": "code",
   "execution_count": 19,
   "metadata": {},
   "outputs": [],
   "source": [
    "s3_output_location = 's3://{}/{}/output'.format(bucket, dataset_name)\n",
    "\n",
    "image_classifier = sagemaker.estimator.Estimator(\n",
    "    training_image,\n",
    "    role, \n",
    "    instance_count=1, \n",
    "    instance_type='ml.p2.xlarge',\n",
    "    output_path=s3_output_location,\n",
    "    sagemaker_session=sess\n",
    ")"
   ]
  },
  {
   "cell_type": "markdown",
   "metadata": {},
   "source": [
    "### Set some training hyperparameters\n",
    "\n",
    "Finally, before we train, we provide some additional configuration parameters for the training.\n",
    "\n",
    "More info here: https://docs.aws.amazon.com/sagemaker/latest/dg/IC-Hyperparameter.html"
   ]
  },
  {
   "cell_type": "code",
   "execution_count": 20,
   "metadata": {},
   "outputs": [
    {
     "data": {
      "text/plain": [
       "{'use_pretrained_model': 1,\n",
       " 'image_shape': '3,224,224',\n",
       " 'num_classes': 4,\n",
       " 'num_training_samples': 41,\n",
       " 'learning_rate': 0.001,\n",
       " 'mini_batch_size': 5}"
      ]
     },
     "execution_count": 20,
     "metadata": {},
     "output_type": "execute_result"
    }
   ],
   "source": [
    "num_classes=! ls -l {base_dir}/{dataset_name} | wc -l\n",
    "num_classes=int(num_classes[0]) - 1\n",
    "\n",
    "num_training_samples=! cat {base_dir}/{dataset_name}_train.lst | wc -l\n",
    "num_training_samples = int(num_training_samples[0])\n",
    "\n",
    "# Learn more about the Sagemaker built-in Image Classifier hyperparameters here: https://docs.aws.amazon.com/sagemaker/latest/dg/IC-Hyperparameter.html\n",
    "\n",
    "# These hyperparameters we won't want to change, as they define things like\n",
    "# the size of the images we'll be sending for input, the number of training classes we have, etc.\n",
    "base_hyperparameters=dict(\n",
    "    use_pretrained_model=1,\n",
    "    image_shape='3,224,224',\n",
    "    num_classes=num_classes,\n",
    "    num_training_samples=num_training_samples,\n",
    ")\n",
    "\n",
    "# These are hyperparameters we may want to tune, as they can affect the model training success:\n",
    "hyperparameters={\n",
    "    **base_hyperparameters, \n",
    "    **dict(\n",
    "        learning_rate=0.001,\n",
    "        mini_batch_size=5,\n",
    "    )\n",
    "}\n",
    "\n",
    "\n",
    "image_classifier.set_hyperparameters(**hyperparameters)\n",
    "\n",
    "hyperparameters"
   ]
  },
  {
   "cell_type": "markdown",
   "metadata": {},
   "source": [
    "### Start the training\n",
    "Train our model!\n",
    "\n",
    "This will take some time because it's provisioning a new container runtime to train our model, then the actual training happens, then the trained model gets uploaded to S3 and the container is shut down.\n",
    "\n",
    "More info here: https://sagemaker.readthedocs.io/en/stable/estimators.html#sagemaker.estimator.Estimator.fit"
   ]
  },
  {
   "cell_type": "code",
   "execution_count": 21,
   "metadata": {
    "scrolled": false
   },
   "outputs": [
    {
     "name": "stdout",
     "output_type": "stream",
     "text": [
      "2021-02-11 02:01:28 Starting - Starting the training job...\n",
      "2021-02-11 02:01:52 Starting - Launching requested ML instancesProfilerReport-1613008888: InProgress\n",
      "......\n",
      "2021-02-11 02:02:52 Starting - Preparing the instances for training.........\n",
      "2021-02-11 02:04:18 Downloading - Downloading input data...\n",
      "2021-02-11 02:04:54 Training - Downloading the training image......\n",
      "2021-02-11 02:05:55 Training - Training image download completed. Training in progress.\u001b[34mDocker entrypoint called with argument(s): train\u001b[0m\n",
      "\u001b[34m[02/11/2021 02:05:46 INFO 140014841898112] Reading default configuration from /opt/amazon/lib/python2.7/site-packages/image_classification/default-input.json: {u'beta_1': 0.9, u'gamma': 0.9, u'beta_2': 0.999, u'optimizer': u'sgd', u'use_pretrained_model': 0, u'eps': 1e-08, u'epochs': 30, u'lr_scheduler_factor': 0.1, u'num_layers': 152, u'image_shape': u'3,224,224', u'precision_dtype': u'float32', u'mini_batch_size': 32, u'weight_decay': 0.0001, u'learning_rate': 0.1, u'momentum': 0}\u001b[0m\n",
      "\u001b[34m[02/11/2021 02:05:46 INFO 140014841898112] Merging with provided configuration from /opt/ml/input/config/hyperparameters.json: {u'learning_rate': u'0.001', u'num_training_samples': u'41', u'image_shape': u'3,224,224', u'mini_batch_size': u'5', u'use_pretrained_model': u'1', u'num_classes': u'4'}\u001b[0m\n",
      "\u001b[34m[02/11/2021 02:05:46 INFO 140014841898112] Final configuration: {u'beta_1': 0.9, u'gamma': 0.9, u'beta_2': 0.999, u'optimizer': u'sgd', u'use_pretrained_model': u'1', u'num_classes': u'4', u'eps': 1e-08, u'epochs': 30, u'lr_scheduler_factor': 0.1, u'num_layers': 152, u'image_shape': u'3,224,224', u'precision_dtype': u'float32', u'mini_batch_size': u'5', u'weight_decay': 0.0001, u'learning_rate': u'0.001', u'momentum': 0, u'num_training_samples': u'41'}\u001b[0m\n",
      "\u001b[34m[02/11/2021 02:05:46 INFO 140014841898112] Searching for .rec files in /opt/ml/input/data/train.\u001b[0m\n",
      "\u001b[34m[02/11/2021 02:05:46 INFO 140014841898112] Searching for .rec files in /opt/ml/input/data/validation.\u001b[0m\n",
      "\u001b[34m[02/11/2021 02:05:46 INFO 140014841898112] use_pretrained_model: 1\u001b[0m\n",
      "\u001b[34m[02/11/2021 02:05:46 INFO 140014841898112] multi_label: 0\u001b[0m\n",
      "\u001b[34m[02/11/2021 02:05:46 INFO 140014841898112] Using pretrained model for initializing weights and transfer learning.\u001b[0m\n",
      "\u001b[34m[02/11/2021 02:05:46 INFO 140014841898112] ---- Parameters ----\u001b[0m\n",
      "\u001b[34m[02/11/2021 02:05:46 INFO 140014841898112] num_layers: 152\u001b[0m\n",
      "\u001b[34m[02/11/2021 02:05:46 INFO 140014841898112] data type: <type 'numpy.float32'>\u001b[0m\n",
      "\u001b[34m[02/11/2021 02:05:46 INFO 140014841898112] epochs: 30\u001b[0m\n",
      "\u001b[34m[02/11/2021 02:05:46 INFO 140014841898112] optimizer: sgd\u001b[0m\n",
      "\u001b[34m[02/11/2021 02:05:46 INFO 140014841898112] momentum: 0.9\u001b[0m\n",
      "\u001b[34m[02/11/2021 02:05:46 INFO 140014841898112] weight_decay: 0.0001\u001b[0m\n",
      "\u001b[34m[02/11/2021 02:05:46 INFO 140014841898112] learning_rate: 0.001\u001b[0m\n",
      "\u001b[34m[02/11/2021 02:05:46 INFO 140014841898112] num_training_samples: 41\u001b[0m\n",
      "\u001b[34m[02/11/2021 02:05:46 INFO 140014841898112] mini_batch_size: 5\u001b[0m\n",
      "\u001b[34m[02/11/2021 02:05:46 INFO 140014841898112] image_shape: 3,224,224\u001b[0m\n",
      "\u001b[34m[02/11/2021 02:05:46 INFO 140014841898112] num_classes: 4\u001b[0m\n",
      "\u001b[34m[02/11/2021 02:05:46 INFO 140014841898112] augmentation_type: None\u001b[0m\n",
      "\u001b[34m[02/11/2021 02:05:46 INFO 140014841898112] kv_store: device\u001b[0m\n",
      "\u001b[34m[02/11/2021 02:05:46 INFO 140014841898112] checkpoint_frequency not set, will store the best model\u001b[0m\n",
      "\u001b[34m[02/11/2021 02:05:46 INFO 140014841898112] --------------------\u001b[0m\n",
      "\u001b[34m[02:05:46] /opt/brazil-pkg-cache/packages/AIAlgorithmsMXNet/AIAlgorithmsMXNet-1.3.x_ecl_Cuda_10.1.x.5757.0/AL2012/generic-flavor/src/src/nnvm/legacy_json_util.cc:209: Loading symbol saved by previous version v0.8.0. Attempting to upgrade...\u001b[0m\n",
      "\u001b[34m[02:05:46] /opt/brazil-pkg-cache/packages/AIAlgorithmsMXNet/AIAlgorithmsMXNet-1.3.x_ecl_Cuda_10.1.x.5757.0/AL2012/generic-flavor/src/src/nnvm/legacy_json_util.cc:217: Symbol successfully upgraded!\u001b[0m\n",
      "\u001b[34m[02/11/2021 02:05:48 INFO 140014841898112] Setting number of threads: 3\u001b[0m\n",
      "\u001b[34m[02:05:54] /opt/brazil-pkg-cache/packages/AIAlgorithmsMXNet/AIAlgorithmsMXNet-1.3.x_ecl_Cuda_10.1.x.5757.0/AL2012/generic-flavor/src/src/operator/nn/./cudnn/./cudnn_algoreg-inl.h:97: Running performance tests to find the best convolution algorithm, this can take a while... (setting env variable MXNET_CUDNN_AUTOTUNE_DEFAULT to 0 to disable)\u001b[0m\n",
      "\u001b[34m[02/11/2021 02:06:05 INFO 140014841898112] Epoch[0] Train-accuracy=0.250000\u001b[0m\n",
      "\u001b[34m[02/11/2021 02:06:05 INFO 140014841898112] Epoch[0] Time cost=11.527\u001b[0m\n",
      "\u001b[34m[02/11/2021 02:06:05 INFO 140014841898112] Epoch[0] Validation-accuracy=0.466667\u001b[0m\n",
      "\u001b[34m[02/11/2021 02:06:06 INFO 140014841898112] Storing the best model with validation accuracy: 0.466667\u001b[0m\n",
      "\u001b[34m[02/11/2021 02:06:06 INFO 140014841898112] Saved checkpoint to \"/opt/ml/model/image-classification-0001.params\"\u001b[0m\n",
      "\u001b[34m[02/11/2021 02:06:09 INFO 140014841898112] Epoch[1] Train-accuracy=0.650000\u001b[0m\n",
      "\u001b[34m[02/11/2021 02:06:09 INFO 140014841898112] Epoch[1] Time cost=2.897\u001b[0m\n",
      "\u001b[34m[02/11/2021 02:06:10 INFO 140014841898112] Epoch[1] Validation-accuracy=0.900000\u001b[0m\n",
      "\u001b[34m[02/11/2021 02:06:10 INFO 140014841898112] Storing the best model with validation accuracy: 0.900000\u001b[0m\n",
      "\u001b[34m[02/11/2021 02:06:11 INFO 140014841898112] Saved checkpoint to \"/opt/ml/model/image-classification-0002.params\"\u001b[0m\n",
      "\u001b[34m[02/11/2021 02:06:13 INFO 140014841898112] Epoch[2] Train-accuracy=0.900000\u001b[0m\n",
      "\u001b[34m[02/11/2021 02:06:13 INFO 140014841898112] Epoch[2] Time cost=2.621\u001b[0m\n",
      "\u001b[34m[02/11/2021 02:06:14 INFO 140014841898112] Epoch[2] Validation-accuracy=1.000000\u001b[0m\n",
      "\u001b[34m[02/11/2021 02:06:14 INFO 140014841898112] Storing the best model with validation accuracy: 1.000000\u001b[0m\n",
      "\u001b[34m[02/11/2021 02:06:15 INFO 140014841898112] Saved checkpoint to \"/opt/ml/model/image-classification-0003.params\"\u001b[0m\n",
      "\u001b[34m[02/11/2021 02:06:17 INFO 140014841898112] Epoch[3] Train-accuracy=0.950000\u001b[0m\n",
      "\u001b[34m[02/11/2021 02:06:17 INFO 140014841898112] Epoch[3] Time cost=2.897\u001b[0m\n",
      "\u001b[34m[02/11/2021 02:06:18 INFO 140014841898112] Epoch[3] Validation-accuracy=1.000000\u001b[0m\n",
      "\u001b[34m[02/11/2021 02:06:21 INFO 140014841898112] Epoch[4] Train-accuracy=0.975000\u001b[0m\n",
      "\u001b[34m[02/11/2021 02:06:21 INFO 140014841898112] Epoch[4] Time cost=2.840\u001b[0m\n",
      "\u001b[34m[02/11/2021 02:06:22 INFO 140014841898112] Epoch[4] Validation-accuracy=1.000000\u001b[0m\n",
      "\u001b[34m[02/11/2021 02:06:26 INFO 140014841898112] Epoch[5] Train-accuracy=1.000000\u001b[0m\n",
      "\u001b[34m[02/11/2021 02:06:26 INFO 140014841898112] Epoch[5] Time cost=2.617\u001b[0m\n",
      "\u001b[34m[02/11/2021 02:06:26 INFO 140014841898112] Epoch[5] Validation-accuracy=1.000000\u001b[0m\n",
      "\u001b[34m[02/11/2021 02:06:29 INFO 140014841898112] Epoch[6] Train-accuracy=1.000000\u001b[0m\n",
      "\u001b[34m[02/11/2021 02:06:29 INFO 140014841898112] Epoch[6] Time cost=2.623\u001b[0m\n",
      "\u001b[34m[02/11/2021 02:06:30 INFO 140014841898112] Epoch[6] Validation-accuracy=1.000000\u001b[0m\n",
      "\u001b[34m[02/11/2021 02:06:33 INFO 140014841898112] Epoch[7] Train-accuracy=0.950000\u001b[0m\n",
      "\u001b[34m[02/11/2021 02:06:33 INFO 140014841898112] Epoch[7] Time cost=2.907\u001b[0m\n",
      "\u001b[34m[02/11/2021 02:06:34 INFO 140014841898112] Epoch[7] Validation-accuracy=1.000000\u001b[0m\n",
      "\u001b[34m[02/11/2021 02:06:37 INFO 140014841898112] Epoch[8] Train-accuracy=0.975000\u001b[0m\n",
      "\u001b[34m[02/11/2021 02:06:37 INFO 140014841898112] Epoch[8] Time cost=2.613\u001b[0m\n",
      "\u001b[34m[02/11/2021 02:06:38 INFO 140014841898112] Epoch[8] Validation-accuracy=1.000000\u001b[0m\n",
      "\u001b[34m[02/11/2021 02:06:41 INFO 140014841898112] Epoch[9] Train-accuracy=1.000000\u001b[0m\n",
      "\u001b[34m[02/11/2021 02:06:41 INFO 140014841898112] Epoch[9] Time cost=2.782\u001b[0m\n",
      "\u001b[34m[02/11/2021 02:06:42 INFO 140014841898112] Epoch[9] Validation-accuracy=0.950000\u001b[0m\n",
      "\u001b[34m[02/11/2021 02:06:45 INFO 140014841898112] Epoch[10] Train-accuracy=1.000000\u001b[0m\n",
      "\u001b[34m[02/11/2021 02:06:45 INFO 140014841898112] Epoch[10] Time cost=2.621\u001b[0m\n",
      "\u001b[34m[02/11/2021 02:06:46 INFO 140014841898112] Epoch[10] Validation-accuracy=1.000000\u001b[0m\n",
      "\u001b[34m[02/11/2021 02:06:50 INFO 140014841898112] Epoch[11] Train-accuracy=0.975000\u001b[0m\n",
      "\u001b[34m[02/11/2021 02:06:50 INFO 140014841898112] Epoch[11] Time cost=2.643\u001b[0m\n",
      "\u001b[34m[02/11/2021 02:06:51 INFO 140014841898112] Epoch[11] Validation-accuracy=1.000000\u001b[0m\n",
      "\u001b[34m[02/11/2021 02:06:54 INFO 140014841898112] Epoch[12] Train-accuracy=1.000000\u001b[0m\n",
      "\u001b[34m[02/11/2021 02:06:54 INFO 140014841898112] Epoch[12] Time cost=2.717\u001b[0m\n",
      "\u001b[34m[02/11/2021 02:06:55 INFO 140014841898112] Epoch[12] Validation-accuracy=1.000000\u001b[0m\n"
     ]
    },
    {
     "name": "stdout",
     "output_type": "stream",
     "text": [
      "\u001b[34m[02/11/2021 02:06:58 INFO 140014841898112] Epoch[13] Train-accuracy=1.000000\u001b[0m\n",
      "\u001b[34m[02/11/2021 02:06:58 INFO 140014841898112] Epoch[13] Time cost=2.820\u001b[0m\n",
      "\u001b[34m[02/11/2021 02:06:59 INFO 140014841898112] Epoch[13] Validation-accuracy=1.000000\u001b[0m\n",
      "\u001b[34m[02/11/2021 02:07:02 INFO 140014841898112] Epoch[14] Train-accuracy=1.000000\u001b[0m\n",
      "\u001b[34m[02/11/2021 02:07:02 INFO 140014841898112] Epoch[14] Time cost=2.876\u001b[0m\n",
      "\u001b[34m[02/11/2021 02:07:03 INFO 140014841898112] Epoch[14] Validation-accuracy=1.000000\u001b[0m\n",
      "\u001b[34m[02/11/2021 02:07:07 INFO 140014841898112] Epoch[15] Train-accuracy=1.000000\u001b[0m\n",
      "\u001b[34m[02/11/2021 02:07:07 INFO 140014841898112] Epoch[15] Time cost=3.014\u001b[0m\n",
      "\u001b[34m[02/11/2021 02:07:07 INFO 140014841898112] Epoch[15] Validation-accuracy=1.000000\u001b[0m\n",
      "\u001b[34m[02/11/2021 02:07:10 INFO 140014841898112] Epoch[16] Train-accuracy=1.000000\u001b[0m\n",
      "\u001b[34m[02/11/2021 02:07:10 INFO 140014841898112] Epoch[16] Time cost=2.622\u001b[0m\n",
      "\u001b[34m[02/11/2021 02:07:11 INFO 140014841898112] Epoch[16] Validation-accuracy=1.000000\u001b[0m\n",
      "\u001b[34m[02/11/2021 02:07:14 INFO 140014841898112] Epoch[17] Train-accuracy=1.000000\u001b[0m\n",
      "\u001b[34m[02/11/2021 02:07:14 INFO 140014841898112] Epoch[17] Time cost=2.709\u001b[0m\n",
      "\u001b[34m[02/11/2021 02:07:15 INFO 140014841898112] Epoch[17] Validation-accuracy=1.000000\u001b[0m\n",
      "\u001b[34m[02/11/2021 02:07:18 INFO 140014841898112] Epoch[18] Train-accuracy=1.000000\u001b[0m\n",
      "\u001b[34m[02/11/2021 02:07:18 INFO 140014841898112] Epoch[18] Time cost=2.901\u001b[0m\n",
      "\u001b[34m[02/11/2021 02:07:19 INFO 140014841898112] Epoch[18] Validation-accuracy=1.000000\u001b[0m\n",
      "\u001b[34m[02/11/2021 02:07:22 INFO 140014841898112] Epoch[19] Train-accuracy=1.000000\u001b[0m\n",
      "\u001b[34m[02/11/2021 02:07:22 INFO 140014841898112] Epoch[19] Time cost=2.721\u001b[0m\n",
      "\u001b[34m[02/11/2021 02:07:23 INFO 140014841898112] Epoch[19] Validation-accuracy=1.000000\u001b[0m\n",
      "\u001b[34m[02/11/2021 02:07:26 INFO 140014841898112] Epoch[20] Train-accuracy=0.975000\u001b[0m\n",
      "\u001b[34m[02/11/2021 02:07:26 INFO 140014841898112] Epoch[20] Time cost=2.786\u001b[0m\n",
      "\u001b[34m[02/11/2021 02:07:27 INFO 140014841898112] Epoch[20] Validation-accuracy=1.000000\u001b[0m\n",
      "\u001b[34m[02/11/2021 02:07:30 INFO 140014841898112] Epoch[21] Train-accuracy=1.000000\u001b[0m\n",
      "\u001b[34m[02/11/2021 02:07:30 INFO 140014841898112] Epoch[21] Time cost=2.700\u001b[0m\n",
      "\u001b[34m[02/11/2021 02:07:31 INFO 140014841898112] Epoch[21] Validation-accuracy=1.000000\u001b[0m\n",
      "\u001b[34m[02/11/2021 02:07:34 INFO 140014841898112] Epoch[22] Train-accuracy=1.000000\u001b[0m\n",
      "\u001b[34m[02/11/2021 02:07:34 INFO 140014841898112] Epoch[22] Time cost=2.605\u001b[0m\n",
      "\u001b[34m[02/11/2021 02:07:35 INFO 140014841898112] Epoch[22] Validation-accuracy=1.000000\u001b[0m\n",
      "\u001b[34m[02/11/2021 02:07:38 INFO 140014841898112] Epoch[23] Train-accuracy=1.000000\u001b[0m\n",
      "\u001b[34m[02/11/2021 02:07:38 INFO 140014841898112] Epoch[23] Time cost=2.875\u001b[0m\n",
      "\u001b[34m[02/11/2021 02:07:39 INFO 140014841898112] Epoch[23] Validation-accuracy=1.000000\u001b[0m\n",
      "\u001b[34m[02/11/2021 02:07:42 INFO 140014841898112] Epoch[24] Train-accuracy=1.000000\u001b[0m\n",
      "\u001b[34m[02/11/2021 02:07:42 INFO 140014841898112] Epoch[24] Time cost=2.821\u001b[0m\n",
      "\u001b[34m[02/11/2021 02:07:43 INFO 140014841898112] Epoch[24] Validation-accuracy=1.000000\u001b[0m\n",
      "\u001b[34m[02/11/2021 02:07:46 INFO 140014841898112] Epoch[25] Train-accuracy=1.000000\u001b[0m\n",
      "\u001b[34m[02/11/2021 02:07:46 INFO 140014841898112] Epoch[25] Time cost=2.616\u001b[0m\n",
      "\u001b[34m[02/11/2021 02:07:47 INFO 140014841898112] Epoch[25] Validation-accuracy=1.000000\u001b[0m\n",
      "\u001b[34m[02/11/2021 02:07:50 INFO 140014841898112] Epoch[26] Train-accuracy=1.000000\u001b[0m\n",
      "\u001b[34m[02/11/2021 02:07:50 INFO 140014841898112] Epoch[26] Time cost=2.614\u001b[0m\n",
      "\u001b[34m[02/11/2021 02:07:50 INFO 140014841898112] Epoch[26] Validation-accuracy=1.000000\u001b[0m\n",
      "\u001b[34m[02/11/2021 02:07:54 INFO 140014841898112] Epoch[27] Train-accuracy=0.950000\u001b[0m\n",
      "\u001b[34m[02/11/2021 02:07:54 INFO 140014841898112] Epoch[27] Time cost=2.683\u001b[0m\n",
      "\u001b[34m[02/11/2021 02:07:54 INFO 140014841898112] Epoch[27] Validation-accuracy=1.000000\u001b[0m\n",
      "\u001b[34m[02/11/2021 02:07:57 INFO 140014841898112] Epoch[28] Train-accuracy=1.000000\u001b[0m\n",
      "\u001b[34m[02/11/2021 02:07:57 INFO 140014841898112] Epoch[28] Time cost=2.598\u001b[0m\n",
      "\u001b[34m[02/11/2021 02:07:58 INFO 140014841898112] Epoch[28] Validation-accuracy=1.000000\u001b[0m\n",
      "\u001b[34m[02/11/2021 02:08:01 INFO 140014841898112] Epoch[29] Train-accuracy=1.000000\u001b[0m\n",
      "\u001b[34m[02/11/2021 02:08:01 INFO 140014841898112] Epoch[29] Time cost=2.875\u001b[0m\n",
      "\u001b[34m[02/11/2021 02:08:02 INFO 140014841898112] Epoch[29] Validation-accuracy=1.000000\u001b[0m\n",
      "\n",
      "2021-02-11 02:08:16 Uploading - Uploading generated training model\n",
      "2021-02-11 02:08:57 Completed - Training job completed\n",
      "ProfilerReport-1613008888: NoIssuesFound\n",
      "Training seconds: 265\n",
      "Billable seconds: 265\n",
      "\n",
      "\n",
      " Finished training! The model is available for download at: s3://sagemaker-eu-west-1-466363126778/testing/output/IC-testing-1613008888/output/model.tar.gz\n",
      "CPU times: user 1.01 s, sys: 46.6 ms, total: 1.05 s\n",
      "Wall time: 7min 44s\n"
     ]
    }
   ],
   "source": [
    "%%time\n",
    "\n",
    "import time\n",
    "now = str(int(time.time()))\n",
    "training_job_name = 'IC-' + dataset_name.replace('_', '-') + '-' + now\n",
    "\n",
    "image_classifier.fit(inputs=data_channels, job_name=training_job_name, logs=True)\n",
    "\n",
    "job = image_classifier.latest_training_job\n",
    "model_path = f\"{base_dir}/{job.name}\"\n",
    "\n",
    "print(f\"\\n\\n Finished training! The model is available for download at: {image_classifier.output_path}/{job.name}/output/model.tar.gz\")"
   ]
  },
  {
   "cell_type": "markdown",
   "metadata": {},
   "source": [
    "## Deploy the trained model\n",
    "Once a model has been trained, we can use the same `image_classifier` object to create a deployed, fully-managed endpoint.}\n",
    "\n",
    "More info here: https://sagemaker.readthedocs.io/en/stable/estimators.html#sagemaker.estimator.Estimator.deploy"
   ]
  },
  {
   "cell_type": "code",
   "execution_count": 44,
   "metadata": {
    "scrolled": true
   },
   "outputs": [
    {
     "name": "stdout",
     "output_type": "stream",
     "text": [
      "-------------------!"
     ]
    },
    {
     "ename": "AttributeError",
     "evalue": "can't set attribute",
     "output_type": "error",
     "traceback": [
      "\u001b[0;31m---------------------------------------------------------------------------\u001b[0m",
      "\u001b[0;31mAttributeError\u001b[0m                            Traceback (most recent call last)",
      "\u001b[0;32m<timed exec>\u001b[0m in \u001b[0;36m<module>\u001b[0;34m\u001b[0m\n",
      "\u001b[0;31mAttributeError\u001b[0m: can't set attribute"
     ]
    }
   ],
   "source": [
    "%%time\n",
    "# Deploying a model to an endpoint takes a few minutes to complete\n",
    "\n",
    "deployed_endpoint = image_classifier.deploy(\n",
    "    initial_instance_count = 1,\n",
    "    instance_type = 'ml.t2.medium',\n",
    ")"
   ]
  },
  {
   "cell_type": "markdown",
   "metadata": {},
   "source": [
    "### Clean up\n",
    "\n",
    "When we're done with the endpoint, we can just delete it and the backing instances will be released.  Run the following cell to delete the endpoint."
   ]
  },
  {
   "cell_type": "code",
   "execution_count": 22,
   "metadata": {},
   "outputs": [],
   "source": [
    "deployed_endpoint.delete_endpoint()"
   ]
  },
  {
   "cell_type": "markdown",
   "metadata": {},
   "source": [
    "## Calling a deployed endpoint from Python code\n",
    "\n",
    "If you want to try using a deployed endpoint from Python, here's a function that you can use. It takes in a path to the image you'd like to classify, and a list of all the classes used for training."
   ]
  },
  {
   "cell_type": "code",
   "execution_count": 47,
   "metadata": {},
   "outputs": [
    {
     "data": {
      "text/plain": [
       "[0.8232777118682861,\n",
       " 0.12408780306577682,\n",
       " 0.017346825450658798,\n",
       " 0.03528760001063347]"
      ]
     },
     "execution_count": 47,
     "metadata": {},
     "output_type": "execute_result"
    }
   ],
   "source": [
    "import json\n",
    "import numpy as np\n",
    "import os\n",
    "# print(deployed_endpoint.content_type)\n",
    "# deployed_endpoint.__set__ = 'image/png'\n",
    "\n",
    "def classify_deployed(file_name, classes):\n",
    "    payload = None\n",
    "    with open(file_name, 'rb') as f:\n",
    "        payload = f.read()\n",
    "        payload = bytearray(payload)\n",
    "\n",
    "    deployed_endpoint.content_type = 'image/png'\n",
    "    result = json.loads(deployed_endpoint.predict(payload, initial_args={'ContentType': 'image/png'}))\n",
    "    best_prob_index = np.argmax(result)\n",
    "    return (result)\n",
    "\n",
    "classify_deployed(\"mug.png\", [\"mugs\", \"notebooks\", \"shoes\", \"tennis balls\"])"
   ]
  },
  {
   "cell_type": "markdown",
   "metadata": {},
   "source": [
    "## (Optional) Perform Hyperparameter Tuning\n",
    "\n",
    "Often, you might not know which values for hyperparameters like `learning_rate` and `mini_batch_size` will yield acceptible results. Traditionally, this meant manually running many training jobs with different hyperparameter values, looking at each trained model's performance, and then picking a winner. \n",
    "\n",
    "This type of manual tuning is _very_ time consuming, so you can automate this process using automatic model tuning with SageMaker. Here's some example code to illustrate how to start one of these jobs using the SageMaker Python SDK.\n",
    "\n",
    "More info here about automatic model tuning: https://docs.aws.amazon.com/sagemaker/latest/dg/automatic-model-tuning.html\n",
    "\n",
    "More info about model tuning for the Image Classification algorithm: https://docs.aws.amazon.com/sagemaker/latest/dg/IC-tuning.html"
   ]
  },
  {
   "cell_type": "code",
   "execution_count": null,
   "metadata": {},
   "outputs": [],
   "source": [
    "from sagemaker.tuner import HyperparameterTuner, IntegerParameter, CategoricalParameter, ContinuousParameter\n",
    "hyperparameter_ranges = {'optimizer': CategoricalParameter(['sgd', 'adam']),\n",
    "                         'learning_rate': ContinuousParameter(0.0001, 0.1),\n",
    "                         'mini_batch_size': IntegerParameter(2, 32),\n",
    "                        }\n",
    "\n",
    "objective_metric_name = 'validation:accuracy'\n",
    "\n",
    "tuner = HyperparameterTuner(image_classifier,\n",
    "                            objective_metric_name,\n",
    "                            hyperparameter_ranges,\n",
    "                            max_jobs=50,\n",
    "                            max_parallel_jobs=3)\n",
    "\n",
    "tuner.fit(inputs=data_channels, logs=True, include_cls_metadata=False)"
   ]
  },
  {
   "cell_type": "markdown",
   "metadata": {},
   "source": [
    "## Great resources to continue your Deep Learning journey\n",
    "\n",
    "[3Blue1Brown’s YouTube series on Neural Networks ~ 60 Minutes](https://www.youtube.com/playlist?list=PLZHQObOWTQDNU6R1_67000Dx_ZCJB-3pi)\n",
    "\n",
    "[Fast.ai’s Practical Deep Learning for Coders ~ 14 Hours](http://www.fast.ai/)\n",
    "    \n",
    "[Amazon's Machine Learning University ~ More than 45 hours of courses, videos, and labs](https://aws.amazon.com/training/learning-paths/machine-learning/)\n",
    "    \n",
    "[Neural Networks and Deep Learning, by Michael Neilsen ~ 6 Chapter Book](http://neuralnetworksanddeeplearning.com/)\n",
    "\n",
    "[Amazon SageMaker - Fully-managed Platform](https://aws.amazon.com/sagemaker/)\n",
    "    \n",
    "[@gabehollombe's](https://twitter.com/gabehollombe) deep learning tools and demos\n",
    "- [Jupyter Notebooks](https://github.com/gabehollombe-aws/jupyter-notebooks)\n",
    "- [Webcam S3 Uploader Tool](https://github.com/gabehollombe-aws/webcam-s3-uploader)\n",
    "- [SageMaker Inference Web Tool](https://github.com/gabehollombe-aws/webcam-sagemaker-inference)\n"
   ]
  },
  {
   "cell_type": "code",
   "execution_count": 2,
   "metadata": {
    "scrolled": false
   },
   "outputs": [
    {
     "name": "stdout",
     "output_type": "stream",
     "text": [
      "lost+found\n",
      "mug.png\n",
      "Sagemaker Test.ipynb\n",
      "Untitled.ipynb\n"
     ]
    }
   ],
   "source": [
    "%%bash\n",
    "ls"
   ]
  },
  {
   "cell_type": "code",
   "execution_count": 33,
   "metadata": {},
   "outputs": [
    {
     "name": "stdout",
     "output_type": "stream",
     "text": [
      "mug\n",
      "mug\n",
      "mug\n",
      "mug\n",
      "mug\n",
      "mug\n",
      "mug\n",
      "mug\n",
      "mug\n",
      "mug\n",
      "mug\n",
      "mug\n",
      "mug\n",
      "mug\n",
      "mug\n",
      "mug\n",
      "mug\n",
      "mug\n",
      "mug\n",
      "notebook\n",
      "notebook\n",
      "notebook\n",
      "notebook\n",
      "notebook\n",
      "notebook\n",
      "notebook\n",
      "notebook\n",
      "notebook\n",
      "notebook\n",
      "notebook\n",
      "notebook\n",
      "notebook\n",
      "notebook\n",
      "shoe\n",
      "shoe\n",
      "shoe\n",
      "shoe\n",
      "shoe\n",
      "shoe\n",
      "shoe\n",
      "shoe\n",
      "shoe\n",
      "shoe\n",
      "shoe\n",
      "shoe\n",
      "shoe\n",
      "shoe\n",
      "shoe\n",
      "tennis ball\n",
      "tennis ball\n",
      "tennis ball\n",
      "tennis ball\n",
      "tennis ball\n",
      "tennis ball\n",
      "tennis ball\n",
      "tennis ball\n",
      "tennis ball\n",
      "tennis ball\n",
      "tennis ball\n"
     ]
    }
   ],
   "source": [
    "import boto3\n",
    "\n",
    "s3 = boto3.resource('s3')\n",
    "bucket = s3.Bucket('pixelscrapper-sagemaker')\n",
    "image_index = 0\n",
    "classes = dict()\n",
    "\n",
    "for bucket_obj in bucket.objects.all():\n",
    "    if \".JPG\" in bucket_obj.key:\n",
    "        file = bucket_obj.key\n",
    "        first_dir = file.index('/')\n",
    "        second_dir = file[first_dir+1:].index('/')\n",
    "        folder_name = file[first_dir+1:first_dir + second_dir]\n",
    "        \n",
    "        if classes.get(folder_name)\n",
    "        \n",
    "#         print(f\"{image_index}\\t{}\\t{file[first_dir+1:]}\")\n"
   ]
  },
  {
   "cell_type": "code",
   "execution_count": null,
   "metadata": {},
   "outputs": [],
   "source": []
  }
 ],
 "metadata": {
  "kernelspec": {
   "display_name": "conda_mxnet_p36",
   "language": "python",
   "name": "conda_mxnet_p36"
  },
  "language_info": {
   "codemirror_mode": {
    "name": "ipython",
    "version": 3
   },
   "file_extension": ".py",
   "mimetype": "text/x-python",
   "name": "python",
   "nbconvert_exporter": "python",
   "pygments_lexer": "ipython3",
   "version": "3.6.10"
  },
  "notice": "Copyright 2018 Amazon.com, Inc. or its affiliates. All Rights Reserved.  Licensed under the Apache License, Version 2.0 (the \"License\"). You may not use this file except in compliance with the License. A copy of the License is located at http://aws.amazon.com/apache2.0/ or in the \"license\" file accompanying this file. This file is distributed on an \"AS IS\" BASIS, WITHOUT WARRANTIES OR CONDITIONS OF ANY KIND, either express or implied. See the License for the specific language governing permissions and limitations under the License."
 },
 "nbformat": 4,
 "nbformat_minor": 2
}
