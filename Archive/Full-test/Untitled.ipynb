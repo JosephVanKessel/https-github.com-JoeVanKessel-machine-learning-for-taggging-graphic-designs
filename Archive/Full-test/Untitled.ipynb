{
 "cells": [
  {
   "cell_type": "code",
   "execution_count": null,
   "id": "particular-reservoir",
   "metadata": {},
   "outputs": [],
   "source": [
    "import boto3\n",
    "import botocore\n",
    "import mxnet as mx\n",
    "from PIL import Image\n",
    "import numpy as np\n",
    "import os\n",
    "\n",
    "lst = open('train.lst')\n",
    "s3 = boto3.resource('s3')\n",
    "\n",
    "bucket = 'pixelscrapper-user-content'\n",
    "image_dir = 'images/'\n",
    "train_rec = mx.recordio.MXRecordIO('train.rec', 'w')\n",
    "\n",
    "train_rec.reset()\n",
    "\n",
    "for line in lst:\n",
    "    \n",
    "    line = line.split('\\t')\n",
    "    s3_img_path = line[len(line) - 1][2:]\n",
    "    local_img_path = s3_img_path.split('/')\n",
    "    local_img_path = local_img_path[len(local_img_path) - 1]\n",
    "    \n",
    "    img_label = line[1:len(line)-1]\n",
    "    img_label = img_label[0].split(',')\n",
    "    img_label = [float(i) for i in img_label]\n",
    "    img_id = int(line[0]) \n",
    "    print(local_img_path, s3_img_path, img_label, img_id)\n",
    "#     s3.Bucket(bucket).download_file(s3_img_path, local_img_path)\n",
    "    \n",
    "\n",
    "\n",
    "#     img = Image.open(local_img_path)\n",
    "#     img = img.convert(\"RGB\")   \n",
    "#     img_array = build_resized_image_array(img, 224, 224)\n",
    "#     img_header = mx.recordio.IRHeader(0, img_label, img_id, 0)\n",
    "#     img_packed = mx.recordio.pack_img(img_header, img_array)\n",
    "    \n",
    "#     train_rec.write(img_packed)\n",
    "    break\n",
    "#     os.remove(image_dir + local_img_path)\n",
    "    \n",
    "# train_rec.close()"
   ]
  },
  {
   "cell_type": "code",
   "execution_count": null,
   "id": "fundamental-potato",
   "metadata": {},
   "outputs": [],
   "source": []
  }
 ],
 "metadata": {
  "kernelspec": {
   "display_name": "conda_mxnet_latest_p37",
   "language": "python",
   "name": "conda_mxnet_latest_p37"
  },
  "language_info": {
   "codemirror_mode": {
    "name": "ipython",
    "version": 3
   },
   "file_extension": ".py",
   "mimetype": "text/x-python",
   "name": "python",
   "nbconvert_exporter": "python",
   "pygments_lexer": "ipython3",
   "version": "3.7.6"
  }
 },
 "nbformat": 4,
 "nbformat_minor": 5
}
