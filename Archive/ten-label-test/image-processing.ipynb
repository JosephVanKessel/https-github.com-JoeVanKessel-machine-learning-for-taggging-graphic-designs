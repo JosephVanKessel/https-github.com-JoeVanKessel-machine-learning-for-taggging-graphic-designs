{
 "cells": [
  {
   "cell_type": "markdown",
   "id": "incomplete-academy",
   "metadata": {},
   "source": [
    "# Image-processing\n",
    "### Shuffle images and then split 70% for training and 30% for validation"
   ]
  },
  {
   "cell_type": "code",
   "execution_count": 43,
   "id": "dress-maximum",
   "metadata": {
    "scrolled": false
   },
   "outputs": [
    {
     "name": "stdout",
     "output_type": "stream",
     "text": [
      "51628 \t 0\t0\t1\t0\t0\t0\t0\t0\t0\t0 \t /asset-image/user-2/node-51628/bolivia-star-silver-asset-shape-cutout-stamp-embellishment-gold-fall.png \n",
      "167959 \t 1\t0\t0\t0\t0\t1\t0\t0\t1\t0 \t /graphic-image/user-2725/node-167959/button-template-447-graphic-element-embellishment-fastener-sewing-vintage-antique-retro-shank-no.png \n",
      "40803 \t 0\t1\t0\t0\t0\t0\t0\t0\t0\t0 \t /asset-image/user-2/node-40803/mexico-leaf-007-asset-embellishment-leaves-extraction-green.png \n",
      "107009 \t 0\t0\t0\t0\t0\t0\t0\t1\t0\t0 \t /graphic-image/user-2/node-107009/birthday-print-word-circle1-graphic-tag-element-hybrid-untextured-printable-pink-white.png \n",
      "242269 \t 0\t0\t0\t0\t0\t0\t0\t1\t0\t0 \t /graphic-image/user-53886/node-242269/butterfly-spring-tag-graphic-scallop-ivory-brown-tan.png \n",
      "38307 \t 0\t0\t0\t0\t0\t1\t0\t0\t0\t1 \t /template-image/user-12831/node-38307/leafy-branch-illustration-template-09.png \n",
      "185867 \t 0\t0\t0\t0\t0\t0\t1\t1\t0\t0 \t /graphic-image/user-2725/node-185867/new-day-breathe-word-art-graphic-element-embellishment-snippet-tag-strip-navy-blue-purple.png \n",
      "20698 \t 0\t0\t0\t0\t0\t1\t0\t1\t0\t0 \t /template-image/user-2/node-20698/tag-shape-111-template-mask-banner.png \n",
      "158913 \t 0\t0\t0\t0\t0\t0\t0\t1\t0\t0 \t /graphic-image/user-2/node-158913/byb-info-tag-04-blank-graphic-build-your-basics-printable-red-cream.png \n",
      "228033 \t 0\t0\t0\t0\t0\t1\t1\t0\t0\t0 \t /graphic-image/user-2/node-228033/2020-photo-spots-12-december-graphic-element-black.png \n",
      "3457 train.lst\n",
      "1483 val.lst\n"
     ]
    }
   ],
   "source": [
    "%%bash\n",
    "shuf trial_02-ten_tags.lst > im.lst\n",
    "image_count=`wc -l < im.lst | awk '{print int($0)}'`\n",
    "# Trying to use image_count to automatically split 70/30\n",
    "# (( image_count=image_count+1 ))\n",
    "# (( train_count=image_count*(.7)))\n",
    "\n",
    "head -n 3457 im.lst > train.lst\n",
    "tail -n +3458 im.lst > val.lst\n",
    "head train.lst\n",
    "wc -l train.lst\n",
    "wc -l val.lst"
   ]
  },
  {
   "cell_type": "code",
   "execution_count": 90,
   "id": "beginning-fruit",
   "metadata": {},
   "outputs": [
    {
     "name": "stdout",
     "output_type": "stream",
     "text": [
      "all unique\n",
      "all unique\n"
     ]
    }
   ],
   "source": [
    "%%bash\n",
    "[ \"$(wc -l < train.lst)\" -eq \"$(sort -u train.lst | wc -l)\" ] && echo all unique\n",
    "[ \"$(wc -l < val.lst)\" -eq \"$(sort -u val.lst | wc -l)\" ] && echo all unique"
   ]
  },
  {
   "cell_type": "code",
   "execution_count": 97,
   "id": "express-findings",
   "metadata": {},
   "outputs": [],
   "source": [
    "import boto3\n",
    "import botocore\n",
    "import mxnet as mx\n",
    "from PIL import Image\n",
    "import numpy as np\n",
    "\n",
    "lst = open('train.lst')\n",
    "s3 = boto3.resource('s3')\n",
    "images = []\n",
    "\n",
    "bucket = 'pixelscrapper-user-content'\n",
    "image_dir = 'images/'\n",
    "\n",
    "train_rec = mx.recordio.MXRecordIO('train.rec', 'w')\n",
    "\n",
    "train_rec.reset()\n",
    "\n",
    "i = 0\n",
    "\n",
    "for line in lst:\n",
    "    \n",
    "    line = line.split()\n",
    "    s3_img_path = line[len(line) - 1][1:]\n",
    "    local_img_path = s3_img_path.split('/')\n",
    "    local_img_path = local_img_path[len(local_img_path) - 1]\n",
    "    \n",
    "    s3.Bucket(bucket).download_file(s3_img_path, image_dir + local_img_path)\n",
    "    \n",
    "    img_label = [float(i) for i in line[1:len(line)-1]] \n",
    "    img_id = int(line[0]) \n",
    "    img_header = mx.recordio.IRHeader(0, img_label, img_id, 0)\n",
    "    \n",
    "    img = Image.open(image_dir + local_img_path)\n",
    "    img = img.convert(\"RGB\")   \n",
    "    img_array = np.array(img.resize((224, 224)))\n",
    "    \n",
    "    img_packed = mx.recordio.pack_img(img_header, img_array)\n",
    "    train_rec.write(img_packed)\n",
    "    \n",
    "    os.remove(image_dir + local_img_path)\n",
    "    \n",
    "train_rec.close()\n",
    "        \n"
   ]
  },
  {
   "cell_type": "code",
   "execution_count": 98,
   "id": "ethical-powell",
   "metadata": {},
   "outputs": [],
   "source": [
    "lst = open('val.lst')\n",
    "\n",
    "bucket = 'pixelscrapper-user-content'\n",
    "image_dir = 'images/'\n",
    "\n",
    "val_rec = mx.recordio.MXRecordIO('val.rec', 'w')\n",
    "\n",
    "val_rec.reset()\n",
    "\n",
    "for line in lst:\n",
    "    \n",
    "    line = line.split()\n",
    "    s3_img_path = line[len(line) - 1][1:]\n",
    "    local_img_path = s3_img_path.split('/')\n",
    "    local_img_path = local_img_path[len(local_img_path) - 1]\n",
    "    \n",
    "    s3.Bucket(bucket).download_file(s3_img_path, image_dir + local_img_path)\n",
    "    \n",
    "    img_label = [float(i) for i in line[1:len(line)-1]] \n",
    "    img_id = int(line[0]) \n",
    "    img_header = mx.recordio.IRHeader(0, img_label, img_id, 0)\n",
    "    \n",
    "    img = Image.open(image_dir + local_img_path)\n",
    "    img = img.convert(\"RGB\")   \n",
    "    img_array = np.array(img.resize((224, 224)))\n",
    "    \n",
    "    img_packed = mx.recordio.pack_img(img_header, img_array)\n",
    "    val_rec.write(img_packed)\n",
    "    \n",
    "    os.remove(image_dir + local_img_path)\n",
    "    \n",
    "val_rec.close()\n",
    "        \n"
   ]
  },
  {
   "cell_type": "code",
   "execution_count": 99,
   "id": "entire-bridges",
   "metadata": {},
   "outputs": [],
   "source": [
    "bucket = 'sagemaker-multi-label-test'\n",
    "prefix = 'ic-multilabel'"
   ]
  },
  {
   "cell_type": "code",
   "execution_count": 100,
   "id": "religious-disclosure",
   "metadata": {},
   "outputs": [
    {
     "name": "stdout",
     "output_type": "stream",
     "text": [
      "upload: ./train.rec to s3://sagemaker-multi-label-test/ic-multilabel/train/train.rec\n",
      "upload: ./val.rec to s3://sagemaker-multi-label-test/ic-multilabel/validation/val.rec\n"
     ]
    }
   ],
   "source": [
    "s3train = 's3://{}/{}/train/'.format(bucket, prefix)\n",
    "s3validation = 's3://{}/{}/validation/'.format(bucket, prefix)\n",
    "\n",
    "!aws s3 cp train.rec $s3train\n",
    "!aws s3 cp val.rec $s3validation"
   ]
  },
  {
   "cell_type": "code",
   "execution_count": null,
   "id": "sufficient-corruption",
   "metadata": {},
   "outputs": [],
   "source": []
  }
 ],
 "metadata": {
  "kernelspec": {
   "display_name": "conda_mxnet_latest_p37",
   "language": "python",
   "name": "conda_mxnet_latest_p37"
  },
  "language_info": {
   "codemirror_mode": {
    "name": "ipython",
    "version": 3
   },
   "file_extension": ".py",
   "mimetype": "text/x-python",
   "name": "python",
   "nbconvert_exporter": "python",
   "pygments_lexer": "ipython3",
   "version": "3.7.6"
  }
 },
 "nbformat": 4,
 "nbformat_minor": 5
}
