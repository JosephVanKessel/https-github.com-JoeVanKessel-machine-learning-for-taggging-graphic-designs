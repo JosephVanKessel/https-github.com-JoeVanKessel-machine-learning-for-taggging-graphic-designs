{
 "cells": [
  {
   "cell_type": "code",
   "execution_count": 4,
   "id": "c9d07ddb",
   "metadata": {},
   "outputs": [],
   "source": [
    "import sagemaker\n",
    "from sagemaker import get_execution_role\n",
    "from sagemaker.amazon.amazon_estimator import image_uris\n",
    "from sagemaker.image_uris import retrieve, config_for_framework\n",
    "from sagemaker.tuner import IntegerParameter, CategoricalParameter, ContinuousParameter, HyperparameterTuner\n",
    "from time import gmtime, strftime\n",
    "\n",
    "role = get_execution_role()\n",
    "sess = sagemaker.Session()"
   ]
  },
  {
   "cell_type": "code",
   "execution_count": 5,
   "id": "8b4bab22",
   "metadata": {},
   "outputs": [],
   "source": [
    "bucket = 'sagemaker-multi-label-data'\n",
    "prefix = 'ic-multi-label'\n",
    "\n",
    "training = 's3://{}/{}/training/'.format(bucket, prefix)\n",
    "validation = 's3://{}/{}/validation/'.format(bucket, prefix)\n",
    "output = 's3://{}/{}/output'.format(bucket, prefix)"
   ]
  },
  {
   "cell_type": "code",
   "execution_count": 6,
   "id": "b92694e7",
   "metadata": {},
   "outputs": [],
   "source": [
    "train_data = sagemaker.inputs.TrainingInput(\n",
    "    training, \n",
    "    distribution='FullyReplicated', \n",
    "    content_type='application/x-recordio', \n",
    "    s3_data_type='S3Prefix'\n",
    ")\n",
    "\n",
    "validation_data = sagemaker.inputs.TrainingInput(\n",
    "    validation, \n",
    "    distribution='FullyReplicated', \n",
    "    content_type='application/x-recordio', \n",
    "    s3_data_type='S3Prefix'\n",
    ")\n",
    "\n",
    "data_channels = {'train': train_data, 'validation': validation_data}"
   ]
  },
  {
   "cell_type": "code",
   "execution_count": 7,
   "id": "e39f601a",
   "metadata": {},
   "outputs": [],
   "source": [
    "training_image = retrieve('image-classification', sess.boto_region_name)"
   ]
  },
  {
   "cell_type": "code",
   "execution_count": 8,
   "id": "e03b67f8",
   "metadata": {},
   "outputs": [],
   "source": [
    "multilabel_ic = sagemaker.estimator.Estimator(\n",
    "    training_image,\n",
    "    role, \n",
    "    instance_count=1, \n",
    "    instance_type='ml.p3.2xlarge',\n",
    "    output_path=output,\n",
    "    sagemaker_session=sess\n",
    "    )"
   ]
  },
  {
   "cell_type": "code",
   "execution_count": 9,
   "id": "eb8103d8",
   "metadata": {},
   "outputs": [],
   "source": [
    "multilabel_ic.set_hyperparameters(\n",
    "    num_classes=334,\n",
    "    num_training_samples=116945,\n",
    "    augmentation_type = 'crop_color_transform',\n",
    "    epochs=5,\n",
    "    image_shape = \"3,96,96\",\n",
    "    multi_label=1,\n",
    "    use_weighted_loss=1\n",
    "    )"
   ]
  },
  {
   "cell_type": "code",
   "execution_count": 10,
   "id": "40840457",
   "metadata": {},
   "outputs": [],
   "source": [
    "tuning_job_name = \"imageclassif-job-{}\".format(strftime(\"%d-%H-%M-%S\", gmtime()))\n",
    "\n",
    "hyperparameter_ranges = {\n",
    "    'learning_rate': ContinuousParameter(0.0001, 0.05),\n",
    "    'mini_batch_size': IntegerParameter(126, 256),\n",
    "    'optimizer': CategoricalParameter(['sgd', 'adam', 'rmsprop', 'nag'])}\n",
    "\n",
    "objective_metric_name = 'validation:accuracy'\n",
    "\n",
    "tuner = HyperparameterTuner(\n",
    "    multilabel_ic,\n",
    "    objective_metric_name,\n",
    "    hyperparameter_ranges,\n",
    "    objective_type='Maximize',\n",
    "    max_jobs=2,\n",
    "    max_parallel_jobs=1) "
   ]
  },
  {
   "cell_type": "code",
   "execution_count": null,
   "id": "87371c98",
   "metadata": {},
   "outputs": [
    {
     "name": "stdout",
     "output_type": "stream",
     "text": [
      "............................................................................................................................................................................................................................................................................................................................................................................................................................................................................................................................................................................................................"
     ]
    }
   ],
   "source": [
    "tuner.fit(data_channels, job_name=tuning_job_name, include_cls_metadata=False)\n",
    "tuner.wait()"
   ]
  },
  {
   "cell_type": "code",
   "execution_count": null,
   "id": "815d4d19",
   "metadata": {},
   "outputs": [],
   "source": []
  }
 ],
 "metadata": {
  "kernelspec": {
   "display_name": "conda_mxnet_latest_p37",
   "language": "python",
   "name": "conda_mxnet_latest_p37"
  },
  "language_info": {
   "codemirror_mode": {
    "name": "ipython",
    "version": 3
   },
   "file_extension": ".py",
   "mimetype": "text/x-python",
   "name": "python",
   "nbconvert_exporter": "python",
   "pygments_lexer": "ipython3",
   "version": "3.7.10"
  }
 },
 "nbformat": 4,
 "nbformat_minor": 5
}
